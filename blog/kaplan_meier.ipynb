{
 "cells": [
  {
   "cell_type": "raw",
   "id": "c612b69b",
   "metadata": {},
   "source": [
    "---\n",
    "title: \"Kaplan Meier\"\n",
    "draft: true\n",
    "format: \n",
    "  html:\n",
    "    code-fold: true\n",
    "    code-tools: true\n",
    "jupyter: python3\n",
    "execute:\n",
    "  include: false\n",
    "---"
   ]
  },
  {
   "cell_type": "markdown",
   "id": "6d157343",
   "metadata": {},
   "source": [
    "## A Non-Parametric Model of Survival"
   ]
  },
  {
   "cell_type": "markdown",
   "id": "b1081a8e-dd19-47c6-98a5-385718d1b89d",
   "metadata": {},
   "source": [
    "#### \n",
    "\n",
    "A central construct in survival analysis is the survival curve $S(t)$, which is the probability of surviving to time $t$. The Kaplan-Meier method is often referred to a \"non-parametric\" approach to estimating the survival curve for a given population. I have always found the term \"non-parametric\" a bit confusing. We are estimating _something_, right? Whatever that thing is, that is your parameter. So how can it be non-parametric?\n",
    "\n",
    "To understand what is meant, let's look at the alternative. What would a parametric model be? We could have assumed, for instance,\n",
    "    $$S(t) = e^{-\\lambda t}$$\n",
    "where $\\lambda$ is some parameter to be fitted against the observed data. The benefit to such an approach is that, with only a single parameter, all the data goes towards estimating that parameter and we can place strong bounds on what values of the parameter are consistent with the data. The downside is that we may have misspecified the model. Perhaps our population consists of not just a single rate, but a mixture of rates, for instance,\n",
    "    $$S(t) = \\alpha_1 e^{-\\lambda_1 t} + \\alpha_2 e^{-\\lambda_2 t}$$\n",
    "where $\\alpha_1$ and $\\alpha_2$ are the mixture ratios ($\\alpha_1 + \\alpha_2 = 1$) and $\\lambda_1$ and $\\lambda_2$ are the rates present in the population. Ignoring this more-detailed structure of the data could lead to biased estimates of $S(t)$. \n",
    "\n",
    "We could then extend this idea even further. We can suppose that we don't have just two rates, but an arbitrary number of rates:\n",
    "    $$S(t) = \\sum_{i=1}^N \\alpha_i e^{-\\lambda_i t}$$\n",
    "where now $N$, the number of rates present in the population, is also a parameter to be estimated from the data. Of course, the more parameters you have, the easier it becomes to fit the data and in the limit where $N$ becomes the number of observed subjects, you have one free parameter per data point and the problem is terribly under-constrained. \n",
    "\n",
    "This is not what the Kaplan-Meier approach does. Actually, it does something even wilder. The Kaplan-Meier approach assumes one free parameter _per time point_. We take, therefore,\n",
    "    $$S(t) = p_t$$\n",
    "where $p_t$ is the parameter to be estimated. This is where my confusion always comes in around the term \"non-parametric\". The value $p_t$ _is_ a parameter. In fact, it is the parameter of a Bernoulli distribution, and this fact is explicitly required to write down a likelihood function (and thereby estimate $p_t$). \n",
    "\n",
    "In the Kaplan-Meier approach, we are thus assuming a family of Bernoulli random variables with parameters $\\{p_t\\}_{t=0}^\\infty$ such that $p_{t'} \\geq p_{t}$ if $t' < t$. The non-parametric part refers only to the fact that we have not given $p_t$ an explicit functional form with respect to time. But the model has _lots_ of parameters!! Crazy that the models with the most parameters somehow earn the label \"non-parametric\".\n"
   ]
  },
  {
   "cell_type": "code",
   "execution_count": null,
   "id": "359ebb30-d024-48c1-81e9-73caafc503a6",
   "metadata": {},
   "outputs": [],
   "source": []
  }
 ],
 "metadata": {
  "kernelspec": {
   "display_name": "Python 3",
   "language": "python",
   "name": "python3"
  },
  "language_info": {
   "codemirror_mode": {
    "name": "ipython",
    "version": 3
   },
   "file_extension": ".py",
   "mimetype": "text/x-python",
   "name": "python",
   "nbconvert_exporter": "python",
   "pygments_lexer": "ipython3",
   "version": "3.9.2"
  }
 },
 "nbformat": 4,
 "nbformat_minor": 5
}
